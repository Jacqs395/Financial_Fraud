{
 "cells": [
  {
   "cell_type": "code",
   "execution_count": 1,
   "metadata": {},
   "outputs": [
    {
     "ename": "NameError",
     "evalue": "name 'cleaned_df' is not defined",
     "output_type": "error",
     "traceback": [
      "\u001b[0;31m---------------------------------------------------------------------------\u001b[0m",
      "\u001b[0;31mNameError\u001b[0m                                 Traceback (most recent call last)",
      "Cell \u001b[0;32mIn[1], line 2\u001b[0m\n\u001b[1;32m      1\u001b[0m \u001b[38;5;66;03m#Train-Test-Split. Split data into training and testing sets, with \"isFraud\" as the target variable\u001b[39;00m\n\u001b[0;32m----> 2\u001b[0m y\u001b[38;5;241m=\u001b[39mcleaned_df[\u001b[38;5;124m\"\u001b[39m\u001b[38;5;124misFraud\u001b[39m\u001b[38;5;124m\"\u001b[39m]\n\u001b[1;32m      3\u001b[0m X\u001b[38;5;241m=\u001b[39mcleaned_df\u001b[38;5;241m.\u001b[39mdrop(\u001b[38;5;124m\"\u001b[39m\u001b[38;5;124misFraud\u001b[39m\u001b[38;5;124m\"\u001b[39m, axis\u001b[38;5;241m=\u001b[39m\u001b[38;5;241m1\u001b[39m)\n\u001b[1;32m      5\u001b[0m X_train, X_test, y_train, y_test \u001b[38;5;241m=\u001b[39m train_test_split(X,y,test_size\u001b[38;5;241m=\u001b[39m\u001b[38;5;241m0.2\u001b[39m, random_state\u001b[38;5;241m=\u001b[39m\u001b[38;5;241m42\u001b[39m)\n",
      "\u001b[0;31mNameError\u001b[0m: name 'cleaned_df' is not defined"
     ]
    }
   ],
   "source": [
    "#Train-Test-Split. Split data into training and testing sets, with \"isFraud\" as the target variable\n",
    "y=cleaned_df[\"isFraud\"]\n",
    "X=cleaned_df.drop(\"isFraud\", axis=1)\n",
    "\n",
    "X_train, X_test, y_train, y_test = train_test_split(X,y,test_size=0.2, random_state=42)"
   ]
  },
  {
   "cell_type": "code",
   "execution_count": 3,
   "metadata": {},
   "outputs": [],
   "source": [
    "# Log Transformation to skewed numerical data\n",
    "X_train[\"amount\"] = np.log1p(X_train[\"amount\"])\n",
    "X_test[\"amount\"] = np.log1p(X_test[\"amount\"])"
   ]
  },
  {
   "cell_type": "code",
   "execution_count": 4,
   "metadata": {},
   "outputs": [],
   "source": [
    "# Create binary features by using one-hot encoding to convert categorical variables to binary\n",
    "#X_train = pd.get_dummies(X_train, columns=[\"type\"], drop_first=True)\n",
    "#X_test = pd.get_dummies(X_test, columns=[\"type\"],drop_first=True)"
   ]
  },
  {
   "cell_type": "code",
   "execution_count": 5,
   "metadata": {},
   "outputs": [],
   "source": [
    "# Logistic Regression Model\n",
    "#logreg = LogisticRegression(max_iter=1000)\n",
    "#logreg.fit(X_train, y_train)\n",
    "\n",
    "#y_probs = logreg.predict_proba(X_test)[:, 1]"
   ]
  },
  {
   "cell_type": "code",
   "execution_count": 6,
   "metadata": {},
   "outputs": [],
   "source": [
    "# ROC Curve\n",
    "#fpr, tpr, thresholds = roc_curve(y_test, y_probs)\n",
    "#roc_auc = auc(fpr, tpr)\n",
    "\n",
    "#plt.figure(figsize=(8,6))\n",
    "#plt.plot(fpr, tpr, color=\"darkorange\", lw=2, label=\"ROC Curve (area= %0.2f)\" % roc_auc)\n",
    "#plt.plot([0,1], [0,1], color=\"navy\", lw=2, linestyle='--')\n",
    "#plt.xlim([0.0, 1.0])\n",
    "#plt.ylim([0.0, 1.05])\n",
    "#plt.xlabel(\"False Positive Rate\")\n",
    "#plt.ylabel(\"True Positive Rate\")\n",
    "#plt.title(\"ROC Curve\")\n",
    "#plt.legend(loc=\"lower right\")\n",
    "#plt.show()"
   ]
  },
  {
   "cell_type": "code",
   "execution_count": 7,
   "metadata": {},
   "outputs": [],
   "source": [
    "# Support Vector Machine (SVM) Classifier\n",
    "#svm = SVC(kernel=\"linear\")\n",
    "#svm.fit(X_train, y_train)\n",
    "\n",
    "#y_pred = svm.predict(X_test)\n",
    "\n",
    "#classification_report(y_test, y_pred)"
   ]
  }
 ],
 "metadata": {
  "kernelspec": {
   "display_name": "base",
   "language": "python",
   "name": "python3"
  },
  "language_info": {
   "codemirror_mode": {
    "name": "ipython",
    "version": 3
   },
   "file_extension": ".py",
   "mimetype": "text/x-python",
   "name": "python",
   "nbconvert_exporter": "python",
   "pygments_lexer": "ipython3",
   "version": "3.12.4"
  }
 },
 "nbformat": 4,
 "nbformat_minor": 2
}
